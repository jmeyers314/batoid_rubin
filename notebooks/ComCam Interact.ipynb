{
 "cells": [
  {
   "cell_type": "code",
   "execution_count": null,
   "id": "d173e890-03ac-4762-a9cc-55358ad9724b",
   "metadata": {},
   "outputs": [],
   "source": [
    "%load_ext autoreload\n",
    "%autoreload 2"
   ]
  },
  {
   "cell_type": "code",
   "execution_count": null,
   "id": "77b8841e-7fea-44de-a7c7-1e7b2d177b76",
   "metadata": {
    "tags": []
   },
   "outputs": [],
   "source": [
    "from batoid_rubin.comcam_interact import ComCamAOS\n",
    "import ipywidgets\n",
    "\n",
    "%matplotlib widget"
   ]
  },
  {
   "cell_type": "code",
   "execution_count": null,
   "id": "0485f386",
   "metadata": {},
   "outputs": [],
   "source": [
    "debug = ipywidgets.Output()\n",
    "debug"
   ]
  },
  {
   "cell_type": "code",
   "execution_count": null,
   "id": "f28acbda-dbb8-430e-acb3-f3e8d6f6172c",
   "metadata": {
    "tags": []
   },
   "outputs": [],
   "source": [
    "control_log = ipywidgets.Output()\n",
    "control_log\n",
    "# control_log=None"
   ]
  },
  {
   "cell_type": "code",
   "execution_count": null,
   "id": "9ccffac6-6c79-4cec-8997-18a0a2b334b0",
   "metadata": {
    "tags": []
   },
   "outputs": [],
   "source": [
    "dz_terms = (\n",
    "    (1, 4), # focus\n",
    "    (2, 4), (3, 4), # field tilt\n",
    "    (2, 5), (3, 5), (2, 6), (3, 6), # linear astigmatism\n",
    "    (1, 7), (1, 8), # constant coma\n",
    "    (1, 5), (1, 6), # constant astigmatism\n",
    "    (1, 9), (1, 10), # constant trefoil\n",
    "    (1, 11), # constant spherical\n",
    "    (1, 12), (1, 13), # constant 2nd astigmatism\n",
    "    (1, 14), (1, 15), # constant tetrafoil\n",
    "    # (1, 16), (1, 17), # constant 2nd coma\n",
    "    # (1, 18), (1, 19), # constant 2nd trefoil\n",
    "    (1, 20), (1, 21), # constant pentafoil\n",
    "    # (1, 22), # constant 2nd spherical\n",
    "    # (1, 27), (1, 28), # constant hexafoil\n",
    ")\n",
    "\n",
    "app = ComCamAOS(\n",
    "    debug=debug,\n",
    "    control_log=control_log,\n",
    "    randomized_dof=list(range(25)),\n",
    "    controlled_dof=list(range(25)),\n",
    "    dz_terms=dz_terms,\n",
    "    rng=57721,\n",
    ")\n",
    "app.display()"
   ]
  },
  {
   "cell_type": "code",
   "execution_count": null,
   "id": "246f0717-e79b-4aa2-97a1-3437c14d100b",
   "metadata": {},
   "outputs": [],
   "source": []
  }
 ],
 "metadata": {
  "kernelspec": {
   "display_name": "Python 3 (ipykernel)",
   "language": "python",
   "name": "python3"
  },
  "language_info": {
   "codemirror_mode": {
    "name": "ipython",
    "version": 3
   },
   "file_extension": ".py",
   "mimetype": "text/x-python",
   "name": "python",
   "nbconvert_exporter": "python",
   "pygments_lexer": "ipython3",
   "version": "3.11.7"
  },
  "vscode": {
   "interpreter": {
    "hash": "31c3fdddfa735b7c072849cfefe0f69bf2b4b9260bc44902e7f5d2c2677b6360"
   }
  }
 },
 "nbformat": 4,
 "nbformat_minor": 5
}
