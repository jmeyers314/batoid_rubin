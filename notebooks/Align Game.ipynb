{
 "cells": [
  {
   "cell_type": "code",
   "execution_count": 1,
   "id": "77b8841e-7fea-44de-a7c7-1e7b2d177b76",
   "metadata": {
    "tags": []
   },
   "outputs": [],
   "source": [
    "from batoid_rubin.align_game import AlignGame\n",
    "import ipywidgets\n",
    "\n",
    "%matplotlib widget"
   ]
  },
  {
   "cell_type": "code",
   "execution_count": 2,
   "id": "f28acbda-dbb8-430e-acb3-f3e8d6f6172c",
   "metadata": {
    "tags": []
   },
   "outputs": [
    {
     "data": {
      "application/vnd.jupyter.widget-view+json": {
       "model_id": "7c036776ef4849f7a2982fac217c4f04",
       "version_major": 2,
       "version_minor": 0
      },
      "text/plain": [
       "Output()"
      ]
     },
     "execution_count": 2,
     "metadata": {},
     "output_type": "execute_result"
    }
   ],
   "source": [
    "control_log = ipywidgets.Output()\n",
    "control_log\n",
    "# control_log=None"
   ]
  },
  {
   "cell_type": "code",
   "execution_count": 3,
   "id": "9ccffac6-6c79-4cec-8997-18a0a2b334b0",
   "metadata": {
    "tags": []
   },
   "outputs": [
    {
     "data": {
      "application/vnd.jupyter.widget-view+json": {
       "model_id": "cc1b73382bb945609993c6a10eaea466",
       "version_major": 2,
       "version_minor": 0
      },
      "text/plain": [
       "HBox(children=(Output(), VBox(children=(FloatText(value=0.0, description='M2 dz (µm)', layout=Layout(width='18…"
      ]
     },
     "metadata": {},
     "output_type": "display_data"
    }
   ],
   "source": [
    "app = AlignGame(control_log=control_log, nthread=4)\n",
    "app.display()"
   ]
  },
  {
   "cell_type": "markdown",
   "id": "634d9bce-3797-435e-939c-a33752628143",
   "metadata": {},
   "source": [
    "Explanation\n",
    "===========\n",
    "\n",
    "Use this tool to investigate optical effects of misaligning the Rubin secondary mirror (M2) or camera.  You can\n",
    "even turn this misalignment investigation into a game by applying hidden random misalignments and using feedback\n",
    "from both the in-focus PSF images and out-of-focus donut images to try and get the telescope back into alignment.\n",
    "\n",
    "Layout\n",
    "------\n",
    "On the left, you will see a grid of PSFs (in-focus) and donuts (out-of-focus) representing the Rubin focal plane.  \n",
    "The outer (inner) donuts are intra (extra) focal images of stars obtained by the corner wavefront sensors.  The\n",
    "grid of in-focus stars sample the center of each Rubin raft.\n",
    "\n",
    "At the top of the grid, the current wavefront error integrated over both the telescope pupil and field-of-view is\n",
    "shown.  The number of iterations since the last randomization reset is also shown.\n",
    "\n",
    "Degrees of freedom\n",
    "------------------\n",
    "There are 5 rigid body degrees of freedom for (mis)-aligning both M2 and the camera.  The $dx$ and $dy$ variables\n",
    "will decenter the optic perpendicular to the optic axis.  The $dz$ variables manipulate the placement of the optic\n",
    "along the optic axis.  The $Rx$ and $Ry$ variables tilt the optic along the $x$ and $y$ axes.\n",
    "\n",
    "Degeneracies\n",
    "------------\n",
    "Some of the degrees of freedom are (mostly) degenerate.  Try displacing both the camera and M2 in opposite \n",
    "directions; you should find that these degrees of freedom mostly cancel each other out.  There are additional\n",
    "degeneracies present between decentering and rotating optics.\n",
    "\n",
    "Buttons\n",
    "-------\n",
    "\n",
    "The ``Zero`` button will reset the widget to zero misalignment errors.\n",
    "\n",
    "The ``Randomize`` button will apply a hidden random offset.  You can use this as a start to a game of aligning the \n",
    "telescope manually.  Try to manipulate the degrees-of-freedom to bring the telescope back into alignment.\n",
    "\n",
    "The ``Reveal`` button will show the hidden offsets in the right text panel.\n",
    "\n",
    "The ``Solve`` button will apply the degrees of freedom that exactly cancel the hidden offsets thus bringing the \n",
    "telescope back into alignment.\n",
    "\n",
    "The ``Control w/ Trunc`` button will apply a control algorithm to the optics in a manner similar to the actual\n",
    "Rubin active optics.  A forward model fit of the eight donut images is performed to infer the wavefront error \n",
    "at each corner.  A precomputed senstivity matrix is then used to determine the commands that should bring the \n",
    "telescope back into alignment.  Because of degeneracies (see above) a naive conversion from wavefront errors\n",
    "to degrees of freedom is ill-formed.  With this button, that degeneracy is addressed by only attempting to\n",
    "control a non-degenerate subset of degrees of freedom.\n",
    "\n",
    "The ``Control w/ Penalty`` button performs the same wavefront error estimation as the ``Control w/ Trunc`` button,\n",
    "but applies a different algorithm to convert wavefront errors into control actions.  In this case, all 10\n",
    "degrees of freedom are controlled, but a penalty is applied to large commands, preventing the solution from\n",
    "wandering off along a degeneracy direction.\n",
    "\n",
    "Note that running either control algorithm will also populate the debug output in the notebook cell above the\n",
    "main widget showing the donut fits and progress in manipulating degrees of freedom and achieved wavefront error."
   ]
  },
  {
   "cell_type": "code",
   "execution_count": 6,
   "id": "18ef218b-4afc-4d34-9fb3-56abb0cd54eb",
   "metadata": {},
   "outputs": [],
   "source": [
    "import danish\n",
    "import yaml\n",
    "from pathlib import Path"
   ]
  },
  {
   "cell_type": "code",
   "execution_count": 7,
   "id": "e109e00e-b3c6-4903-aef2-84001f09f68b",
   "metadata": {},
   "outputs": [],
   "source": [
    "Rubin_obsc = yaml.safe_load(open(Path(danish.datadir)/'RubinObsc.yaml'))"
   ]
  },
  {
   "cell_type": "code",
   "execution_count": 10,
   "id": "acf148e3-4f71-4bbc-9547-c1ced89e52af",
   "metadata": {},
   "outputs": [
    {
     "data": {
      "text/plain": [
       "<danish.factory.DonutFactory at 0x162c30490>"
      ]
     },
     "execution_count": 10,
     "metadata": {},
     "output_type": "execute_result"
    }
   ],
   "source": [
    "danish.DonutFactory(mask_params=Rubin_obsc)"
   ]
  },
  {
   "cell_type": "code",
   "execution_count": null,
   "id": "bedf8770-f9b8-4d92-989e-759016a35412",
   "metadata": {},
   "outputs": [],
   "source": []
  }
 ],
 "metadata": {
  "kernelspec": {
   "display_name": "Python 3 (ipykernel)",
   "language": "python",
   "name": "python3"
  },
  "language_info": {
   "codemirror_mode": {
    "name": "ipython",
    "version": 3
   },
   "file_extension": ".py",
   "mimetype": "text/x-python",
   "name": "python",
   "nbconvert_exporter": "python",
   "pygments_lexer": "ipython3",
   "version": "3.11.7"
  },
  "vscode": {
   "interpreter": {
    "hash": "31c3fdddfa735b7c072849cfefe0f69bf2b4b9260bc44902e7f5d2c2677b6360"
   }
  }
 },
 "nbformat": 4,
 "nbformat_minor": 5
}
