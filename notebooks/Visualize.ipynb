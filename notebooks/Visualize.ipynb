{
 "cells": [
  {
   "cell_type": "code",
   "execution_count": null,
   "id": "42738588-c121-4da9-94db-f03fb4ab16d4",
   "metadata": {
    "tags": []
   },
   "outputs": [],
   "source": [
    "%load_ext autoreload\n",
    "%autoreload 2\n",
    "\n",
    "%matplotlib widget"
   ]
  },
  {
   "cell_type": "code",
   "execution_count": null,
   "id": "430ed095-d210-4845-8d4d-428109d0e6bc",
   "metadata": {
    "tags": []
   },
   "outputs": [],
   "source": [
    "from pathlib import Path\n",
    "import batoid\n",
    "from batoid_rubin.visualize import VisualizeApp\n",
    "from ipywidgets import Output"
   ]
  },
  {
   "cell_type": "code",
   "execution_count": null,
   "id": "c62c7e5d-a7b4-4e99-b780-6f16f3058faf",
   "metadata": {
    "tags": []
   },
   "outputs": [],
   "source": [
    "debug = Output()\n",
    "# debug"
   ]
  },
  {
   "cell_type": "code",
   "execution_count": null,
   "id": "9016c300-1f87-4ece-a1ff-409240bf2661",
   "metadata": {
    "tags": []
   },
   "outputs": [],
   "source": [
    "fiducial = batoid.Optic.fromYaml(\"LSST_r.yaml\")\n",
    "app = VisualizeApp(fiducial, 620e-9, debug=debug)\n",
    "app.display()"
   ]
  },
  {
   "cell_type": "code",
   "execution_count": null,
   "id": "647480c9",
   "metadata": {},
   "outputs": [],
   "source": []
  }
 ],
 "metadata": {
  "kernelspec": {
   "display_name": "Python 3 (ipykernel)",
   "language": "python",
   "name": "python3"
  },
  "language_info": {
   "codemirror_mode": {
    "name": "ipython",
    "version": 3
   },
   "file_extension": ".py",
   "mimetype": "text/x-python",
   "name": "python",
   "nbconvert_exporter": "python",
   "pygments_lexer": "ipython3",
   "version": "3.11.7"
  },
  "vscode": {
   "interpreter": {
    "hash": "31c3fdddfa735b7c072849cfefe0f69bf2b4b9260bc44902e7f5d2c2677b6360"
   }
  }
 },
 "nbformat": 4,
 "nbformat_minor": 5
}
